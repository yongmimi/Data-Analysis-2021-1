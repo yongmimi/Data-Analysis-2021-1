{
 "metadata": {
  "language_info": {
   "codemirror_mode": {
    "name": "ipython",
    "version": 3
   },
   "file_extension": ".py",
   "mimetype": "text/x-python",
   "name": "python",
   "nbconvert_exporter": "python",
   "pygments_lexer": "ipython3",
   "version": "3.9.2-final"
  },
  "orig_nbformat": 2,
  "kernelspec": {
   "name": "python3",
   "display_name": "Python 3",
   "language": "python"
  }
 },
 "nbformat": 4,
 "nbformat_minor": 2,
 "cells": [
  {
   "source": [
    "# 한빛출판네트워크 새로나온 책 Crawling"
   ],
   "cell_type": "markdown",
   "metadata": {}
  },
  {
   "cell_type": "code",
   "execution_count": 1,
   "metadata": {},
   "outputs": [],
   "source": [
    "from bs4 import BeautifulSoup \n",
    "import urllib.request\n",
    "import pandas as pd "
   ]
  },
  {
   "cell_type": "code",
   "execution_count": 2,
   "metadata": {},
   "outputs": [],
   "source": [
    "base_url = 'https://www.hanbit.co.kr'\n",
    "sub_url = '/academy/books/new_book_list.html'\n",
    "url = base_url + sub_url\n",
    "with urllib.request.urlopen(url) as response:\n",
    "    html = response.read()\n",
    "    soup = BeautifulSoup(html, 'html.parser')"
   ]
  },
  {
   "cell_type": "code",
   "execution_count": 3,
   "metadata": {},
   "outputs": [
    {
     "output_type": "execute_result",
     "data": {
      "text/plain": [
       "20"
      ]
     },
     "metadata": {},
     "execution_count": 3
    }
   ],
   "source": [
    "lis = soup.select('.sub_book_list')\n",
    "len(lis)"
   ]
  },
  {
   "cell_type": "code",
   "execution_count": 4,
   "metadata": {},
   "outputs": [
    {
     "output_type": "execute_result",
     "data": {
      "text/plain": [
       "<li class=\"sub_book_list\">\n",
       "<div class=\"view_box\">\n",
       "<span class=\"view_box_block\">\n",
       "<span class=\"img_hidden_a\">\n",
       "<span class=\"pop_quick_menu\">\n",
       "<a href=\"/academy/books/book_view.html?p_code=B5747914873\"><img alt=\"상세보기\" src=\"https://www.hanbit.co.kr/images/common/icon_view_detail.png\"/></a>\n",
       "<a href=\"javascript:;\" onclick=\"addCart('B5747914873','','1','');\">\n",
       "<img alt=\"장바구니 담기\" src=\"https://www.hanbit.co.kr/images/common/icon_add_cart.png\"/>\n",
       "</a>\n",
       "</span>\n",
       "<span class=\"price\">43,000<span>원</span></span>\n",
       "<span class=\"pop_quick_bg\" onclick=\"location='/academy/books/book_view.html?p_code=B5747914873'\"></span>\n",
       "</span>\n",
       "<!-- 예약도서인 경우 -->\n",
       "<!-- ebook이 도서인 경우 -->\n",
       "<img alt=\"\" class=\"thumb\" src=\"/data/books/B5747914873_m.jpg\"/>\n",
       "</span>\n",
       "<div class=\"info\">\n",
       "<p class=\"book_tit\"><a href=\"/academy/books/book_view.html?p_code=B5747914873\">STEM CookBook, 대학물리학(5판)</a></p>\n",
       "<p class=\"book_writer\">Alan Giambattista </p>\n",
       "</div>\n",
       "</div>\n",
       "</li>"
      ]
     },
     "metadata": {},
     "execution_count": 4
    }
   ],
   "source": [
    "lis[6]"
   ]
  },
  {
   "cell_type": "code",
   "execution_count": 5,
   "metadata": {},
   "outputs": [
    {
     "output_type": "execute_result",
     "data": {
      "text/plain": [
       "'/academy/books/book_view.html?p_code=B5747914873'"
      ]
     },
     "metadata": {},
     "execution_count": 5
    }
   ],
   "source": [
    "book_url = lis[6].find('a').attrs['href']\n",
    "book_url"
   ]
  },
  {
   "cell_type": "code",
   "execution_count": 6,
   "metadata": {},
   "outputs": [],
   "source": [
    "with urllib.request.urlopen(base_url+book_url) as response:\n",
    "    html = response.read()\n",
    "    book_soup = BeautifulSoup(html, 'html.parser')"
   ]
  },
  {
   "cell_type": "code",
   "execution_count": 7,
   "metadata": {},
   "outputs": [
    {
     "output_type": "execute_result",
     "data": {
      "text/plain": [
       "'STEM CookBook, 대학물리학(5판)'"
      ]
     },
     "metadata": {},
     "execution_count": 7
    }
   ],
   "source": [
    "info = book_soup.select_one('.store_product_info_box')\n",
    "title = info.find('h3').string\n",
    "title"
   ]
  },
  {
   "cell_type": "code",
   "execution_count": 8,
   "metadata": {},
   "outputs": [
    {
     "output_type": "execute_result",
     "data": {
      "text/plain": [
       "{'저자': 'Alan Giambattista ',\n",
       " '번역': '김용은 외 ',\n",
       " '출간': '2021-01-20',\n",
       " '페이지': '1464 쪽',\n",
       " 'ISBN': '9791156645207',\n",
       " '물류코드': '4520',\n",
       " '원제': 'College Physics, 5th Edition(McGraw-Hill Education)'}"
      ]
     },
     "metadata": {},
     "execution_count": 8
    }
   ],
   "source": [
    "lis = info.find_all('li')\n",
    "book_dict = {}\n",
    "for li in lis:\n",
    "    idx = li.find('strong').get_text().find(':')\n",
    "    key = li.find('strong').get_text()[:idx-1]\n",
    "    value = li.find('span').get_text()\n",
    "    book_dict.update([[key, value]])\n",
    "book_dict"
   ]
  },
  {
   "cell_type": "code",
   "execution_count": 9,
   "metadata": {},
   "outputs": [
    {
     "output_type": "execute_result",
     "data": {
      "text/plain": [
       "'Behrouz A. Forouzan, Richard F. Gilberg'"
      ]
     },
     "metadata": {},
     "execution_count": 9
    }
   ],
   "source": [
    "al = 'Behrouz A. Forouzan , Richard F. Gilberg '.split(',')\n",
    "al = list(map(lambda s: s.rstrip(), al))\n",
    "','.join(al)"
   ]
  },
  {
   "cell_type": "code",
   "execution_count": 10,
   "metadata": {},
   "outputs": [
    {
     "output_type": "stream",
     "name": "stdout",
     "text": [
      "Alan Giambattista 김용은 외 2021-01-20 1464 9791156645207\n"
     ]
    }
   ],
   "source": [
    "info = book_soup.select_one('.store_product_info_box')\n",
    "book_lis = info.find_all('li')\n",
    "al = book_lis[0].find('span').get_text().split(',')\n",
    "authors = ','.join(list(map(lambda s: s.rstrip(), al)))\n",
    "\n",
    "for bli in book_lis[1:]:\n",
    "    key = bli.find('strong').get_text()\n",
    "    if key.find('번역') >= 0:\n",
    "        tl = bli.find('span').get_text().split(',')\n",
    "        translators = ','.join(list(map(lambda s: s.rstrip(), tl)))\n",
    "    elif key.find('출간') >= 0:\n",
    "        date = bli.find('span').get_text()\n",
    "    elif key.find('페이지') >= 0:\n",
    "        page = int(bli.find('span').get_text()[:-2])\n",
    "    elif key.find('ISBN') >= 0:\n",
    "        isbn = bli.find('span').get_text()\n",
    "\n",
    "print(authors, translators, date, page, isbn)"
   ]
  },
  {
   "cell_type": "code",
   "execution_count": 11,
   "metadata": {},
   "outputs": [
    {
     "output_type": "stream",
     "name": "stdout",
     "text": [
      "43000 43000 1290\n"
     ]
    }
   ],
   "source": [
    "pb_ps = book_soup.select_one('.payment_box').find_all('p')\n",
    "list_prices = []; sales_prices = []; mileages = []\n",
    "\n",
    "idx = pb_ps[0].select_one('.pbr').get_text().find('원')\n",
    "lp = pb_ps[0].select_one('.pbr').get_text()[:idx]\n",
    "lp = int(lp.replace(',',''))\n",
    "\n",
    "idx = pb_ps[1].select_one('.pbr').get_text().find('원')\n",
    "sp = pb_ps[1].select_one('.pbr').get_text()[:idx]\n",
    "sp = int(sp.replace(',',''))\n",
    "\n",
    "idx = pb_ps[2].select_one('.pbr').get_text().find('점')\n",
    "mile = pb_ps[2].select_one('.pbr').get_text()[:idx]\n",
    "mile = int(mile.replace(',',''))\n",
    "\n",
    "print(lp, sp, mile)"
   ]
  },
  {
   "source": [
    "#### 첫번째 페이지"
   ],
   "cell_type": "markdown",
   "metadata": {}
  },
  {
   "cell_type": "code",
   "execution_count": 12,
   "metadata": {},
   "outputs": [],
   "source": [
    "title_list = []; info_list = []; pb_list = []\n",
    "lis = soup.select('.sub_book_list')\n",
    "for li in lis:\n",
    "    book_url = li.find('a').attrs['href']\n",
    "    with urllib.request.urlopen(base_url+book_url) as response:\n",
    "        html = response.read()\n",
    "        book_soup = BeautifulSoup(html, 'html.parser')\n",
    "    info = book_soup.select_one('.store_product_info_box')\n",
    "    title = info.find('h3').string\n",
    "    title_list.append(title)\n",
    "\n",
    "    book_lis = info.find_all('li')\n",
    "    book_dict = {}\n",
    "    for book_li in book_lis:\n",
    "        idx = book_li.find('strong').get_text().find(':')\n",
    "        key = book_li.find('strong').get_text()[:idx-1]\n",
    "        value = book_li.find('span').get_text()\n",
    "        book_dict.update([[key, value]])\n",
    "    info_list.append(book_dict)\n",
    "\n",
    "    pb_ps = book_soup.select_one('.payment_box').find_all('p')\n",
    "    pb_dict = {}\n",
    "    for pb in pb_ps:\n",
    "        idx = pb.select_one('.pbl').get_text().find(':')\n",
    "        key = pb.select_one('.pbl').get_text()[:idx-1]\n",
    "        value = pb.select_one('.pbr').get_text()\n",
    "        pb_dict.update([[key, value]])\n",
    "    pb_list.append(pb_dict)"
   ]
  },
  {
   "cell_type": "code",
   "execution_count": 13,
   "metadata": {},
   "outputs": [
    {
     "output_type": "stream",
     "name": "stdout",
     "text": [
      "['4차 산업혁명 시대를 위한 e-비즈니스 개론(4판)', 'IT CookBook, C 언어 일취월장(2판)', 'Numerical Methods for Engineers, 8th Edition', 'IT CookBook, SQL Server로 배우는 데이터베이스 개론과 실습(2판)', 'IT CookBook, 손에 잡히는 데이터 통신', 'IT CookBook, 파이썬 자료구조와 알고리즘 for Beginner', 'STEM CookBook, 대학물리학(5판)', 'STEM CookBook, 재료역학(2판)', 'IT CookBook, 디지털 회로 실험 with PSpice', '한번에 통과하는 논문 세트', '데이터 과학을 위한 기초수학 with 파이썬', '미분적분학 : 대학수학의 첫걸음', '제대로 시작하는 기초 통계학 : Excel 활용 (2판)', '친절한 미분적분학', 'IT CookBook, 4차 산업혁명과 정보통신의 이해', 'IT CookBook, Android Studio를 활용한 안드로이드 프로그래밍(6판)', 'IT CookBook, C# 프로그래밍 2판', 'IT CookBook, 게임 제작으로 배우는 유니티', 'IT CookBook, 난생처음 R 코딩 & 데이터 분석', 'IT CookBook, 난생처음 인공지능 with 스크래치']\n"
     ]
    }
   ],
   "source": [
    "print(title_list)"
   ]
  },
  {
   "cell_type": "code",
   "execution_count": 14,
   "metadata": {},
   "outputs": [
    {
     "output_type": "execute_result",
     "data": {
      "text/plain": [
       "[{'저자': '이동훈 ',\n",
       "  '출간': '2021-03-07',\n",
       "  '페이지': '512 쪽',\n",
       "  'ISBN': '9791156645320',\n",
       "  '물류코드': '4532'},\n",
       " {'저자': '신윤환 ',\n",
       "  '출간': '2021-02-24',\n",
       "  '페이지': '800 쪽',\n",
       "  'ISBN': '9791156645313',\n",
       "  '물류코드': '4531',\n",
       "  '구판정보': '이 도서는 <IT CookBook, C 언어 일취월장>의 개정판입니다. 구판 정보 보기'},\n",
       " {'저자': 'Steven Chapra , Raymond Canale ',\n",
       "  '출간': '2021-02-18',\n",
       "  '페이지': '1008 쪽',\n",
       "  'ISBN': '9781260571387',\n",
       "  '물류코드': '30003'},\n",
       " {'저자': '박우창 , 남송휘 , 이현룡 ',\n",
       "  '출간': '2021-02-10',\n",
       "  '페이지': '604 쪽',\n",
       "  'ISBN': '9791156645290',\n",
       "  '물류코드': '4529',\n",
       "  '구판정보': '이 도서는 <IT CookBook, SQL Server로 배우는 데이터베이스 개론과 실습>의 개정판입니다. 구판 정보 보기'},\n",
       " {'저자': '임석구 ',\n",
       "  '출간': '2021-01-23',\n",
       "  '페이지': '572 쪽',\n",
       "  'ISBN': '9791156645283',\n",
       "  '물류코드': '4528'},\n",
       " {'저자': '우재남 ',\n",
       "  '출간': '2021-01-23',\n",
       "  '페이지': '520 쪽',\n",
       "  'ISBN': '9791156645252',\n",
       "  '물류코드': '4525'},\n",
       " {'저자': 'Alan Giambattista ',\n",
       "  '번역': '김용은 외 ',\n",
       "  '출간': '2021-01-20',\n",
       "  '페이지': '1464 쪽',\n",
       "  'ISBN': '9791156645207',\n",
       "  '물류코드': '4520',\n",
       "  '원제': 'College Physics, 5th Edition(McGraw-Hill Education)'},\n",
       " {'저자': 'Anthony Bedford , Kenneth M. Liechti ',\n",
       "  '번역': '정광영 , 김형종 , 마정범 , 최정호 , 홍석무 ',\n",
       "  '출간': '2021-01-20',\n",
       "  '페이지': '840 쪽',\n",
       "  'ISBN': '9791156645191',\n",
       "  '물류코드': '4519',\n",
       "  '원제': 'Mechanics of Materials, 2nd Edition(Springer)'},\n",
       " {'저자': '홍순관 ',\n",
       "  '출간': '2021-01-15',\n",
       "  '페이지': '396 쪽',\n",
       "  'ISBN': '9791156645122',\n",
       "  '물류코드': '4512'},\n",
       " {'저자': '히든그레이스 논문통계팀 ',\n",
       "  '출간': '2021-01-08',\n",
       "  '페이지': '1448 쪽',\n",
       "  'ISBN': '9791156645177',\n",
       "  '물류코드': '4517'},\n",
       " {'저자': '이병준 ',\n",
       "  '출간': '2021-01-06',\n",
       "  '페이지': '448 쪽',\n",
       "  'ISBN': '9791156645160',\n",
       "  '물류코드': '4516'},\n",
       " {'저자': '수학교재편찬위원회 ',\n",
       "  '출간': '2021-01-06',\n",
       "  '페이지': '620 쪽',\n",
       "  'ISBN': '9791156645269',\n",
       "  '물류코드': '4526'},\n",
       " {'저자': '노경섭 ',\n",
       "  '출간': '2021-01-06',\n",
       "  '페이지': '364 쪽',\n",
       "  'ISBN': '9791156645153',\n",
       "  '물류코드': '4515'},\n",
       " {'저자': '캐럴 애시, 로버트 B. 애시 ',\n",
       "  '번역': '김광수 , 한빛수학교재연구소 ',\n",
       "  '출간': '2021-01-06',\n",
       "  '페이지': '688 쪽',\n",
       "  'ISBN': '9791156645276',\n",
       "  '물류코드': '4527',\n",
       "  '원제': 'The Calculus Tutoring Book(Wiley)'},\n",
       " {'저자': '김정섭 , 이호상 , 양인창 ',\n",
       "  '출간': '2021-01-05',\n",
       "  '페이지': '448 쪽',\n",
       "  'ISBN': '9791156645047',\n",
       "  '물류코드': '4504'},\n",
       " {'저자': '우재남 , 박길식 ',\n",
       "  '출간': '2021-01-05',\n",
       "  '페이지': '580 쪽',\n",
       "  'ISBN': '9791156645245',\n",
       "  '물류코드': '4524'},\n",
       " {'저자': '윤인성 ',\n",
       "  '출간': '2021-01-05',\n",
       "  '페이지': '480 쪽',\n",
       "  'ISBN': '9791156645238',\n",
       "  '물류코드': '4523'},\n",
       " {'저자': '이종원 , 정종필 ',\n",
       "  '출간': '2021-01-05',\n",
       "  '페이지': '496 쪽',\n",
       "  'ISBN': '9791156645108',\n",
       "  '물류코드': '4510'},\n",
       " {'저자': '오세종 , 신현석 ',\n",
       "  '출간': '2021-01-05',\n",
       "  '페이지': '496 쪽',\n",
       "  'ISBN': '9791156645139',\n",
       "  '물류코드': '4513'},\n",
       " {'저자': '고광일 ',\n",
       "  '출간': '2021-01-05',\n",
       "  '페이지': '364 쪽',\n",
       "  'ISBN': '9791156645221',\n",
       "  '물류코드': '4522'}]"
      ]
     },
     "metadata": {},
     "execution_count": 14
    }
   ],
   "source": [
    "info_list"
   ]
  },
  {
   "cell_type": "code",
   "execution_count": 15,
   "metadata": {},
   "outputs": [
    {
     "output_type": "execute_result",
     "data": {
      "text/plain": [
       "[{'정가': '27,000원', '판매가': '27,000원(0% off)', '마일리지': '810점 (3%)'},\n",
       " {'정가': '28,000원', '판매가': '28,000원(0% off)', '마일리지': '840점 (3%)'},\n",
       " {'정가': '45,000원', '판매가': '45,000원(0% off)', '마일리지': '1,350점 (3%)'},\n",
       " {'정가': '29,000원', '판매가': '29,000원(0% off)', '마일리지': '870점 (3%)'},\n",
       " {'정가': '29,000원', '판매가': '29,000원(0% off)', '마일리지': '870점 (3%)'},\n",
       " {'정가': '27,000원', '판매가': '27,000원(0% off)', '마일리지': '810점 (3%)'},\n",
       " {'정가': '43,000원', '판매가': '43,000원(0% off)', '마일리지': '1,290점 (3%)'},\n",
       " {'정가': '38,000원', '판매가': '38,000원(0% off)', '마일리지': '1,140점 (3%)'},\n",
       " {'정가': '22,000원', '판매가': '22,000원(0% off)', '마일리지': '660점 (3%)'},\n",
       " {'정가': '85,000원', '판매가': '85,000원(0% off)', '마일리지': '2,550점 (3%)'},\n",
       " {'정가': '26,000원', '판매가': '26,000원(0% off)', '마일리지': '780점 (3%)'},\n",
       " {'정가': '28,000원', '판매가': '28,000원(0% off)', '마일리지': '840점 (3%)'},\n",
       " {'정가': '25,000원', '판매가': '25,000원(0% off)', '마일리지': '750점 (3%)'},\n",
       " {'정가': '32,000원', '판매가': '32,000원(0% off)', '마일리지': '960점 (3%)'},\n",
       " {'정가': '25,000원', '판매가': '25,000원(0% off)', '마일리지': '750점 (3%)'},\n",
       " {'정가': '32,000원', '판매가': '32,000원(0% off)', '마일리지': '960점 (3%)'},\n",
       " {'정가': '26,000원', '판매가': '26,000원(0% off)', '마일리지': '780점 (3%)'},\n",
       " {'정가': '30,000원', '판매가': '30,000원(0% off)', '마일리지': '900점 (3%)'},\n",
       " {'정가': '25,000원', '판매가': '25,000원(0% off)', '마일리지': '750점 (3%)'},\n",
       " {'정가': '23,000원', '판매가': '23,000원(0% off)', '마일리지': '690점 (3%)'}]"
      ]
     },
     "metadata": {},
     "execution_count": 15
    }
   ],
   "source": [
    "pb_list"
   ]
  },
  {
   "cell_type": "code",
   "execution_count": 16,
   "metadata": {},
   "outputs": [],
   "source": [
    "title_list = []; author_list = []; translator_list = []\n",
    "date_list = []; page_list = []; isbn_list = []\n",
    "list_price_list = []; sales_price_list = []; mileage_list = []\n",
    "\n",
    "for li in lis:\n",
    "    book_url = li.find('a').attrs['href']\n",
    "    with urllib.request.urlopen(base_url+book_url) as response:\n",
    "        html = response.read()\n",
    "        book_soup = BeautifulSoup(html, 'html.parser')\n",
    "    info = book_soup.select_one('.store_product_info_box')\n",
    "    title = info.find('h3').string\n",
    "    title_list.append(title)\n",
    "\n",
    "    book_lis = info.find_all('li')\n",
    "    al = book_lis[0].find('span').get_text().split(',')\n",
    "    authors = ','.join(list(map(lambda s: s.rstrip(), al)))\n",
    "    author_list.append(authors)\n",
    "\n",
    "    tr_flag = False\n",
    "    for bli in book_lis[1:]:\n",
    "        key = bli.find('strong').get_text()\n",
    "        if key.find('출간') >= 0:\n",
    "            date = bli.find('span').get_text()\n",
    "            date_list.append(date)\n",
    "            continue\n",
    "        elif key.find('페이지') >= 0:\n",
    "            page = int(bli.find('span').get_text()[:-2])\n",
    "            page_list.append(page)\n",
    "            continue\n",
    "        elif key.find('ISBN') >= 0:\n",
    "            isbn = bli.find('span').get_text()\n",
    "            isbn_list.append(isbn)\n",
    "            continue\n",
    "        elif key.find('번역') >= 0:\n",
    "            tl = bli.find('span').get_text().split(',')\n",
    "            translators = ','.join(list(map(lambda s: s.rstrip(), tl)))\n",
    "            translator_list.append(translators)\n",
    "            tr_flag = True\n",
    "    \n",
    "    if not tr_flag:\n",
    "        translator_list.append(' ')\n",
    "\n",
    "    pb_ps = book_soup.select_one('.payment_box').find_all('p')\n",
    "    idx = pb_ps[0].select_one('.pbr').get_text().find('원')\n",
    "    lp = pb_ps[0].select_one('.pbr').get_text()[:idx]\n",
    "    lp = int(lp.replace(',',''))\n",
    "    list_price_list.append(lp)\n",
    "\n",
    "    idx = pb_ps[1].select_one('.pbr').get_text().find('원')\n",
    "    sp = pb_ps[1].select_one('.pbr').get_text()[:idx]\n",
    "    sp = int(sp.replace(',',''))\n",
    "    sales_price_list.append(sp)\n",
    "\n",
    "    idx = pb_ps[2].select_one('.pbr').get_text().find('점')\n",
    "    mile = pb_ps[2].select_one('.pbr').get_text()[:idx]\n",
    "    mile = int(mile.replace(',',''))\n",
    "    mileage_list.append(mile)"
   ]
  },
  {
   "cell_type": "code",
   "execution_count": 17,
   "metadata": {},
   "outputs": [
    {
     "output_type": "execute_result",
     "data": {
      "text/plain": [
       "(20, 20, 20, 20, 20, 20, 20, 20, 20)"
      ]
     },
     "metadata": {},
     "execution_count": 17
    }
   ],
   "source": [
    "len(title_list), len(author_list), len(translator_list), len(date_list), len(page_list), len(isbn_list), len(list_price_list), len(sales_price_list), len(mileage_list)"
   ]
  },
  {
   "cell_type": "code",
   "execution_count": 18,
   "metadata": {},
   "outputs": [
    {
     "output_type": "execute_result",
     "data": {
      "text/plain": [
       "                                                  제목  \\\n",
       "0                       4차 산업혁명 시대를 위한 e-비즈니스 개론(4판)   \n",
       "1                         IT CookBook, C 언어 일취월장(2판)   \n",
       "2       Numerical Methods for Engineers, 8th Edition   \n",
       "3     IT CookBook, SQL Server로 배우는 데이터베이스 개론과 실습(2판)   \n",
       "4                         IT CookBook, 손에 잡히는 데이터 통신   \n",
       "5           IT CookBook, 파이썬 자료구조와 알고리즘 for Beginner   \n",
       "6                           STEM CookBook, 대학물리학(5판)   \n",
       "7                            STEM CookBook, 재료역학(2판)   \n",
       "8                 IT CookBook, 디지털 회로 실험 with PSpice   \n",
       "9                                     한번에 통과하는 논문 세트   \n",
       "10                          데이터 과학을 위한 기초수학 with 파이썬   \n",
       "11                                 미분적분학 : 대학수학의 첫걸음   \n",
       "12                   제대로 시작하는 기초 통계학 : Excel 활용 (2판)   \n",
       "13                                         친절한 미분적분학   \n",
       "14                    IT CookBook, 4차 산업혁명과 정보통신의 이해   \n",
       "15  IT CookBook, Android Studio를 활용한 안드로이드 프로그래밍(6판)   \n",
       "16                          IT CookBook, C# 프로그래밍 2판   \n",
       "17                      IT CookBook, 게임 제작으로 배우는 유니티   \n",
       "18                   IT CookBook, 난생처음 R 코딩 & 데이터 분석   \n",
       "19                  IT CookBook, 난생처음 인공지능 with 스크래치   \n",
       "\n",
       "                                     저자                       번역         출간일  \\\n",
       "0                                   이동훈                           2021-03-07   \n",
       "1                                   신윤환                           2021-02-24   \n",
       "2         Steven Chapra, Raymond Canale                           2021-02-18   \n",
       "3                         박우창, 남송휘, 이현룡                           2021-02-10   \n",
       "4                                   임석구                           2021-01-23   \n",
       "5                                   우재남                           2021-01-23   \n",
       "6                     Alan Giambattista                    김용은 외  2021-01-20   \n",
       "7   Anthony Bedford, Kenneth M. Liechti  정광영, 김형종, 마정범, 최정호, 홍석무  2021-01-20   \n",
       "8                                   홍순관                           2021-01-15   \n",
       "9                          히든그레이스 논문통계팀                           2021-01-08   \n",
       "10                                  이병준                           2021-01-06   \n",
       "11                            수학교재편찬위원회                           2021-01-06   \n",
       "12                                  노경섭                           2021-01-06   \n",
       "13                     캐럴 애시, 로버트 B. 애시           김광수, 한빛수학교재연구소  2021-01-06   \n",
       "14                        김정섭, 이호상, 양인창                           2021-01-05   \n",
       "15                             우재남, 박길식                           2021-01-05   \n",
       "16                                  윤인성                           2021-01-05   \n",
       "17                             이종원, 정종필                           2021-01-05   \n",
       "18                             오세종, 신현석                           2021-01-05   \n",
       "19                                  고광일                           2021-01-05   \n",
       "\n",
       "     페이지           ISBN     정가     판가  마일리지  \n",
       "0    512  9791156645320  27000  27000   810  \n",
       "1    800  9791156645313  28000  28000   840  \n",
       "2   1008  9781260571387  45000  45000  1350  \n",
       "3    604  9791156645290  29000  29000   870  \n",
       "4    572  9791156645283  29000  29000   870  \n",
       "5    520  9791156645252  27000  27000   810  \n",
       "6   1464  9791156645207  43000  43000  1290  \n",
       "7    840  9791156645191  38000  38000  1140  \n",
       "8    396  9791156645122  22000  22000   660  \n",
       "9   1448  9791156645177  85000  85000  2550  \n",
       "10   448  9791156645160  26000  26000   780  \n",
       "11   620  9791156645269  28000  28000   840  \n",
       "12   364  9791156645153  25000  25000   750  \n",
       "13   688  9791156645276  32000  32000   960  \n",
       "14   448  9791156645047  25000  25000   750  \n",
       "15   580  9791156645245  32000  32000   960  \n",
       "16   480  9791156645238  26000  26000   780  \n",
       "17   496  9791156645108  30000  30000   900  \n",
       "18   496  9791156645139  25000  25000   750  \n",
       "19   364  9791156645221  23000  23000   690  "
      ],
      "text/html": "<div>\n<style scoped>\n    .dataframe tbody tr th:only-of-type {\n        vertical-align: middle;\n    }\n\n    .dataframe tbody tr th {\n        vertical-align: top;\n    }\n\n    .dataframe thead th {\n        text-align: right;\n    }\n</style>\n<table border=\"1\" class=\"dataframe\">\n  <thead>\n    <tr style=\"text-align: right;\">\n      <th></th>\n      <th>제목</th>\n      <th>저자</th>\n      <th>번역</th>\n      <th>출간일</th>\n      <th>페이지</th>\n      <th>ISBN</th>\n      <th>정가</th>\n      <th>판가</th>\n      <th>마일리지</th>\n    </tr>\n  </thead>\n  <tbody>\n    <tr>\n      <th>0</th>\n      <td>4차 산업혁명 시대를 위한 e-비즈니스 개론(4판)</td>\n      <td>이동훈</td>\n      <td></td>\n      <td>2021-03-07</td>\n      <td>512</td>\n      <td>9791156645320</td>\n      <td>27000</td>\n      <td>27000</td>\n      <td>810</td>\n    </tr>\n    <tr>\n      <th>1</th>\n      <td>IT CookBook, C 언어 일취월장(2판)</td>\n      <td>신윤환</td>\n      <td></td>\n      <td>2021-02-24</td>\n      <td>800</td>\n      <td>9791156645313</td>\n      <td>28000</td>\n      <td>28000</td>\n      <td>840</td>\n    </tr>\n    <tr>\n      <th>2</th>\n      <td>Numerical Methods for Engineers, 8th Edition</td>\n      <td>Steven Chapra, Raymond Canale</td>\n      <td></td>\n      <td>2021-02-18</td>\n      <td>1008</td>\n      <td>9781260571387</td>\n      <td>45000</td>\n      <td>45000</td>\n      <td>1350</td>\n    </tr>\n    <tr>\n      <th>3</th>\n      <td>IT CookBook, SQL Server로 배우는 데이터베이스 개론과 실습(2판)</td>\n      <td>박우창, 남송휘, 이현룡</td>\n      <td></td>\n      <td>2021-02-10</td>\n      <td>604</td>\n      <td>9791156645290</td>\n      <td>29000</td>\n      <td>29000</td>\n      <td>870</td>\n    </tr>\n    <tr>\n      <th>4</th>\n      <td>IT CookBook, 손에 잡히는 데이터 통신</td>\n      <td>임석구</td>\n      <td></td>\n      <td>2021-01-23</td>\n      <td>572</td>\n      <td>9791156645283</td>\n      <td>29000</td>\n      <td>29000</td>\n      <td>870</td>\n    </tr>\n    <tr>\n      <th>5</th>\n      <td>IT CookBook, 파이썬 자료구조와 알고리즘 for Beginner</td>\n      <td>우재남</td>\n      <td></td>\n      <td>2021-01-23</td>\n      <td>520</td>\n      <td>9791156645252</td>\n      <td>27000</td>\n      <td>27000</td>\n      <td>810</td>\n    </tr>\n    <tr>\n      <th>6</th>\n      <td>STEM CookBook, 대학물리학(5판)</td>\n      <td>Alan Giambattista</td>\n      <td>김용은 외</td>\n      <td>2021-01-20</td>\n      <td>1464</td>\n      <td>9791156645207</td>\n      <td>43000</td>\n      <td>43000</td>\n      <td>1290</td>\n    </tr>\n    <tr>\n      <th>7</th>\n      <td>STEM CookBook, 재료역학(2판)</td>\n      <td>Anthony Bedford, Kenneth M. Liechti</td>\n      <td>정광영, 김형종, 마정범, 최정호, 홍석무</td>\n      <td>2021-01-20</td>\n      <td>840</td>\n      <td>9791156645191</td>\n      <td>38000</td>\n      <td>38000</td>\n      <td>1140</td>\n    </tr>\n    <tr>\n      <th>8</th>\n      <td>IT CookBook, 디지털 회로 실험 with PSpice</td>\n      <td>홍순관</td>\n      <td></td>\n      <td>2021-01-15</td>\n      <td>396</td>\n      <td>9791156645122</td>\n      <td>22000</td>\n      <td>22000</td>\n      <td>660</td>\n    </tr>\n    <tr>\n      <th>9</th>\n      <td>한번에 통과하는 논문 세트</td>\n      <td>히든그레이스 논문통계팀</td>\n      <td></td>\n      <td>2021-01-08</td>\n      <td>1448</td>\n      <td>9791156645177</td>\n      <td>85000</td>\n      <td>85000</td>\n      <td>2550</td>\n    </tr>\n    <tr>\n      <th>10</th>\n      <td>데이터 과학을 위한 기초수학 with 파이썬</td>\n      <td>이병준</td>\n      <td></td>\n      <td>2021-01-06</td>\n      <td>448</td>\n      <td>9791156645160</td>\n      <td>26000</td>\n      <td>26000</td>\n      <td>780</td>\n    </tr>\n    <tr>\n      <th>11</th>\n      <td>미분적분학 : 대학수학의 첫걸음</td>\n      <td>수학교재편찬위원회</td>\n      <td></td>\n      <td>2021-01-06</td>\n      <td>620</td>\n      <td>9791156645269</td>\n      <td>28000</td>\n      <td>28000</td>\n      <td>840</td>\n    </tr>\n    <tr>\n      <th>12</th>\n      <td>제대로 시작하는 기초 통계학 : Excel 활용 (2판)</td>\n      <td>노경섭</td>\n      <td></td>\n      <td>2021-01-06</td>\n      <td>364</td>\n      <td>9791156645153</td>\n      <td>25000</td>\n      <td>25000</td>\n      <td>750</td>\n    </tr>\n    <tr>\n      <th>13</th>\n      <td>친절한 미분적분학</td>\n      <td>캐럴 애시, 로버트 B. 애시</td>\n      <td>김광수, 한빛수학교재연구소</td>\n      <td>2021-01-06</td>\n      <td>688</td>\n      <td>9791156645276</td>\n      <td>32000</td>\n      <td>32000</td>\n      <td>960</td>\n    </tr>\n    <tr>\n      <th>14</th>\n      <td>IT CookBook, 4차 산업혁명과 정보통신의 이해</td>\n      <td>김정섭, 이호상, 양인창</td>\n      <td></td>\n      <td>2021-01-05</td>\n      <td>448</td>\n      <td>9791156645047</td>\n      <td>25000</td>\n      <td>25000</td>\n      <td>750</td>\n    </tr>\n    <tr>\n      <th>15</th>\n      <td>IT CookBook, Android Studio를 활용한 안드로이드 프로그래밍(6판)</td>\n      <td>우재남, 박길식</td>\n      <td></td>\n      <td>2021-01-05</td>\n      <td>580</td>\n      <td>9791156645245</td>\n      <td>32000</td>\n      <td>32000</td>\n      <td>960</td>\n    </tr>\n    <tr>\n      <th>16</th>\n      <td>IT CookBook, C# 프로그래밍 2판</td>\n      <td>윤인성</td>\n      <td></td>\n      <td>2021-01-05</td>\n      <td>480</td>\n      <td>9791156645238</td>\n      <td>26000</td>\n      <td>26000</td>\n      <td>780</td>\n    </tr>\n    <tr>\n      <th>17</th>\n      <td>IT CookBook, 게임 제작으로 배우는 유니티</td>\n      <td>이종원, 정종필</td>\n      <td></td>\n      <td>2021-01-05</td>\n      <td>496</td>\n      <td>9791156645108</td>\n      <td>30000</td>\n      <td>30000</td>\n      <td>900</td>\n    </tr>\n    <tr>\n      <th>18</th>\n      <td>IT CookBook, 난생처음 R 코딩 &amp; 데이터 분석</td>\n      <td>오세종, 신현석</td>\n      <td></td>\n      <td>2021-01-05</td>\n      <td>496</td>\n      <td>9791156645139</td>\n      <td>25000</td>\n      <td>25000</td>\n      <td>750</td>\n    </tr>\n    <tr>\n      <th>19</th>\n      <td>IT CookBook, 난생처음 인공지능 with 스크래치</td>\n      <td>고광일</td>\n      <td></td>\n      <td>2021-01-05</td>\n      <td>364</td>\n      <td>9791156645221</td>\n      <td>23000</td>\n      <td>23000</td>\n      <td>690</td>\n    </tr>\n  </tbody>\n</table>\n</div>"
     },
     "metadata": {},
     "execution_count": 18
    }
   ],
   "source": [
    "new_book = pd.DataFrame({\n",
    "            '제목': title_list,\n",
    "            '저자': author_list,\n",
    "            '번역': translator_list,\n",
    "            '출간일': date_list,\n",
    "            '페이지': page_list,\n",
    "            'ISBN': isbn_list,\n",
    "            '정가': list_price_list,\n",
    "            '판가': sales_price_list,\n",
    "            '마일리지': mileage_list\n",
    "})\n",
    "new_book"
   ]
  },
  {
   "cell_type": "code",
   "execution_count": null,
   "metadata": {},
   "outputs": [],
   "source": []
  },
  {
   "source": [
    "### 모든 페이지에 대해서 처리"
   ],
   "cell_type": "markdown",
   "metadata": {}
  },
  {
   "cell_type": "code",
   "execution_count": 20,
   "metadata": {},
   "outputs": [],
   "source": [
    "import tqdm"
   ]
  },
  {
   "cell_type": "code",
   "execution_count": 21,
   "metadata": {},
   "outputs": [],
   "source": [
    "base_url = 'https://www.hanbit.co.kr'\n",
    "sub_url = '/academy/books/new_book_list.html'\n",
    "title_list = []; author_list = []; translator_list = []\n",
    "date_list = []; page_list = []; isbn_list = []\n",
    "list_price_list = []; sales_price_list = []; mileage_list = []\n",
    "total_page = 17"
   ]
  },
  {
   "cell_type": "code",
   "execution_count": 22,
   "metadata": {},
   "outputs": [
    {
     "output_type": "stream",
     "name": "stderr",
     "text": [
      "<ipython-input-22-795402cb808f>:1: TqdmDeprecationWarning: This function will be removed in tqdm==5.0.0\nPlease use `tqdm.notebook.tqdm` instead of `tqdm.tqdm_notebook`\n  for page in tqdm_notebook(range(total_page)):\n"
     ]
    },
    {
     "output_type": "display_data",
     "data": {
      "text/plain": "  0%|          | 0/17 [00:00<?, ?it/s]",
      "application/vnd.jupyter.widget-view+json": {
       "version_major": 2,
       "version_minor": 0,
       "model_id": "92a0d2cef74b4c7e88ed0764017dfb52"
      }
     },
     "metadata": {}
    }
   ],
   "source": [
    "for page in tqdm.notebook.tqdm(range(total_page)):\n",
    "    page_url = f'?page={page+1}&cate_cd=&srt=&searchKey=&keyWord='\n",
    "    url = base_url + sub_url + page_url\n",
    "    with urllib.request.urlopen(url) as response:\n",
    "        html = response.read()\n",
    "        soup = BeautifulSoup(html, 'html.parser')\n",
    "\n",
    "    lis = soup.select('.sub_book_list')\n",
    "    for li in lis:\n",
    "        book_url = li.find('a').attrs['href']\n",
    "        with urllib.request.urlopen(base_url+book_url) as response:\n",
    "            html = response.read()\n",
    "            book_soup = BeautifulSoup(html, 'html.parser')\n",
    "        info = book_soup.select_one('.store_product_info_box')\n",
    "        title = info.find('h3').string\n",
    "        title_list.append(title)\n",
    "\n",
    "        book_lis = info.find_all('li')\n",
    "        al = book_lis[0].find('span').get_text().split(',')\n",
    "        authors = ','.join(list(map(lambda s: s.rstrip(), al)))\n",
    "        author_list.append(authors)\n",
    "\n",
    "        tr_flag = False\n",
    "        for bli in book_lis[1:]:\n",
    "            key = bli.find('strong').get_text()\n",
    "            if key.find('출간') >= 0:\n",
    "                date = bli.find('span').get_text()\n",
    "                date_list.append(date)\n",
    "                continue\n",
    "            elif key.find('페이지') >= 0:\n",
    "                page = int(bli.find('span').get_text()[:-2])\n",
    "                page_list.append(page)\n",
    "                continue\n",
    "            elif key.find('ISBN') >= 0:\n",
    "                isbn = bli.find('span').get_text()\n",
    "                isbn_list.append(isbn)\n",
    "                continue\n",
    "            elif key.find('번역') >= 0:\n",
    "                tl = bli.find('span').get_text().split(',')\n",
    "                translators = ','.join(list(map(lambda s: s.rstrip(), tl)))\n",
    "                translator_list.append(translators)\n",
    "                tr_flag = True\n",
    "        \n",
    "        if not tr_flag:\n",
    "            translator_list.append(' ')\n",
    "\n",
    "        pb_ps = book_soup.select_one('.payment_box').find_all('p')\n",
    "        idx = pb_ps[0].select_one('.pbr').get_text().find('원')\n",
    "        lp = pb_ps[0].select_one('.pbr').get_text()[:idx]\n",
    "        lp = int(lp.replace(',',''))\n",
    "        list_price_list.append(lp)\n",
    "\n",
    "        idx = pb_ps[1].select_one('.pbr').get_text().find('원')\n",
    "        sp = pb_ps[1].select_one('.pbr').get_text()[:idx]\n",
    "        sp = int(sp.replace(',',''))\n",
    "        sales_price_list.append(sp)\n",
    "\n",
    "        idx = pb_ps[2].select_one('.pbr').get_text().find('점')\n",
    "        mile = pb_ps[2].select_one('.pbr').get_text()[:idx]\n",
    "        mile = int(mile.replace(',',''))\n",
    "        mileage_list.append(mile)"
   ]
  },
  {
   "cell_type": "code",
   "execution_count": 23,
   "metadata": {},
   "outputs": [
    {
     "output_type": "execute_result",
     "data": {
      "text/plain": [
       "                                                    제목                    저자  \\\n",
       "317                      문제해결력을 키우는 이공계 글쓰기 : 발표와 토론까지                   한성우   \n",
       "318                진로개발과 직업세계 : 대학생과 청년층을 위한 진로, 취업지침서    서일수, 김도균, 김지혜, 이정배   \n",
       "319                                 Essential Calculus         James Stewart   \n",
       "320  IT CookBook, 디지털 통신 시스템 : Digital Communicatio...              정호영, 임승각   \n",
       "321     IT CookBook, 운영체제론 : Operating Systems, 3rd Ed  하비 디텔, 폴 디텔, 데이빗 쇼픈스   \n",
       "\n",
       "      번역         출간일  페이지           ISBN     정가     판가  마일리지  \n",
       "317       2013-02-28  396  9788998756024  18000  18000   540  \n",
       "318       2013-02-28  392  9788998756048  20000  20000   600  \n",
       "319       2012-07-08  960  9781133492566  36000  36000  1080  \n",
       "320       2011-01-31  576  9788979147988  25000  25000   750  \n",
       "321  송경희  2009-09-04  860  9788979146844  32000  32000   960  "
      ],
      "text/html": "<div>\n<style scoped>\n    .dataframe tbody tr th:only-of-type {\n        vertical-align: middle;\n    }\n\n    .dataframe tbody tr th {\n        vertical-align: top;\n    }\n\n    .dataframe thead th {\n        text-align: right;\n    }\n</style>\n<table border=\"1\" class=\"dataframe\">\n  <thead>\n    <tr style=\"text-align: right;\">\n      <th></th>\n      <th>제목</th>\n      <th>저자</th>\n      <th>번역</th>\n      <th>출간일</th>\n      <th>페이지</th>\n      <th>ISBN</th>\n      <th>정가</th>\n      <th>판가</th>\n      <th>마일리지</th>\n    </tr>\n  </thead>\n  <tbody>\n    <tr>\n      <th>317</th>\n      <td>문제해결력을 키우는 이공계 글쓰기 : 발표와 토론까지</td>\n      <td>한성우</td>\n      <td></td>\n      <td>2013-02-28</td>\n      <td>396</td>\n      <td>9788998756024</td>\n      <td>18000</td>\n      <td>18000</td>\n      <td>540</td>\n    </tr>\n    <tr>\n      <th>318</th>\n      <td>진로개발과 직업세계 : 대학생과 청년층을 위한 진로, 취업지침서</td>\n      <td>서일수, 김도균, 김지혜, 이정배</td>\n      <td></td>\n      <td>2013-02-28</td>\n      <td>392</td>\n      <td>9788998756048</td>\n      <td>20000</td>\n      <td>20000</td>\n      <td>600</td>\n    </tr>\n    <tr>\n      <th>319</th>\n      <td>Essential Calculus</td>\n      <td>James Stewart</td>\n      <td></td>\n      <td>2012-07-08</td>\n      <td>960</td>\n      <td>9781133492566</td>\n      <td>36000</td>\n      <td>36000</td>\n      <td>1080</td>\n    </tr>\n    <tr>\n      <th>320</th>\n      <td>IT CookBook, 디지털 통신 시스템 : Digital Communicatio...</td>\n      <td>정호영, 임승각</td>\n      <td></td>\n      <td>2011-01-31</td>\n      <td>576</td>\n      <td>9788979147988</td>\n      <td>25000</td>\n      <td>25000</td>\n      <td>750</td>\n    </tr>\n    <tr>\n      <th>321</th>\n      <td>IT CookBook, 운영체제론 : Operating Systems, 3rd Ed</td>\n      <td>하비 디텔, 폴 디텔, 데이빗 쇼픈스</td>\n      <td>송경희</td>\n      <td>2009-09-04</td>\n      <td>860</td>\n      <td>9788979146844</td>\n      <td>32000</td>\n      <td>32000</td>\n      <td>960</td>\n    </tr>\n  </tbody>\n</table>\n</div>"
     },
     "metadata": {},
     "execution_count": 23
    }
   ],
   "source": [
    "new_book = pd.DataFrame({\n",
    "            '제목': title_list,\n",
    "            '저자': author_list,\n",
    "            '번역': translator_list,\n",
    "            '출간일': date_list,\n",
    "            '페이지': page_list,\n",
    "            'ISBN': isbn_list,\n",
    "            '정가': list_price_list,\n",
    "            '판가': sales_price_list,\n",
    "            '마일리지': mileage_list\n",
    "})\n",
    "new_book.tail()"
   ]
  },
  {
   "cell_type": "code",
   "execution_count": 24,
   "metadata": {},
   "outputs": [],
   "source": [
    "new_book.to_csv('New_Book_List.tsv', sep='\\t', encoding='utf8', index=False)"
   ]
  },
  {
   "cell_type": "code",
   "execution_count": null,
   "metadata": {},
   "outputs": [],
   "source": []
  }
 ]
}