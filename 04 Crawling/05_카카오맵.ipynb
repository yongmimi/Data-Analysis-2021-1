{
 "metadata": {
  "language_info": {
   "codemirror_mode": {
    "name": "ipython",
    "version": 3
   },
   "file_extension": ".py",
   "mimetype": "text/x-python",
   "name": "python",
   "nbconvert_exporter": "python",
   "pygments_lexer": "ipython3",
   "version": "3.9.2-final"
  },
  "orig_nbformat": 2,
  "kernelspec": {
   "name": "python3",
   "display_name": "Python 3.9.2 64-bit",
   "metadata": {
    "interpreter": {
     "hash": "4ae4d07c553256b7d01980ff978f96a3f2bc948c521512af4709a697064d65e4"
    }
   }
  }
 },
 "nbformat": 4,
 "nbformat_minor": 2,
 "cells": [
  {
   "source": [
    "# 카카오맵 API"
   ],
   "cell_type": "markdown",
   "metadata": {}
  },
  {
   "cell_type": "code",
   "execution_count": 1,
   "metadata": {},
   "outputs": [],
   "source": [
    "import requests\n",
    "from urllib.parse import quote\n",
    "import pandas as pd "
   ]
  },
  {
   "cell_type": "code",
   "execution_count": 2,
   "metadata": {},
   "outputs": [],
   "source": [
    "with open('kakaomapkey.txt') as key_fd:\n",
    "    kmap_key = key_fd.read(100)"
   ]
  },
  {
   "source": [
    "### 주소 검색\n",
    "- GET /v2/local/search/address.{format} HTTP/1.1\n",
    "- Host: dapi.kakao.com\n",
    "- Authorization: KakaoAK {REST_API_KEY}"
   ],
   "cell_type": "markdown",
   "metadata": {}
  },
  {
   "cell_type": "code",
   "execution_count": 5,
   "metadata": {},
   "outputs": [
    {
     "output_type": "execute_result",
     "data": {
      "text/plain": [
       "{'documents': [{'address': {'address_name': '대구 북구 산격동 1445-3',\n",
       "    'b_code': '2723011100',\n",
       "    'h_code': '2723063100',\n",
       "    'main_address_no': '1445',\n",
       "    'mountain_yn': 'N',\n",
       "    'region_1depth_name': '대구',\n",
       "    'region_2depth_name': '북구',\n",
       "    'region_3depth_h_name': '산격4동',\n",
       "    'region_3depth_name': '산격동',\n",
       "    'sub_address_no': '3',\n",
       "    'x': '128.598409309488',\n",
       "    'y': '35.8920272135627'},\n",
       "   'address_name': '대구 북구 연암로 40',\n",
       "   'address_type': 'ROAD_ADDR',\n",
       "   'road_address': {'address_name': '대구 북구 연암로 40',\n",
       "    'building_name': '대구광역시청별관',\n",
       "    'main_building_no': '40',\n",
       "    'region_1depth_name': '대구',\n",
       "    'region_2depth_name': '북구',\n",
       "    'region_3depth_name': '산격동',\n",
       "    'road_name': '연암로',\n",
       "    'sub_building_no': '',\n",
       "    'underground_yn': 'N',\n",
       "    'x': '128.598409309488',\n",
       "    'y': '35.8920272135627',\n",
       "    'zone_no': '41542'},\n",
       "   'x': '128.598409309488',\n",
       "   'y': '35.8920272135627'}],\n",
       " 'meta': {'is_end': True, 'pageable_count': 1, 'total_count': 1}}"
      ]
     },
     "metadata": {},
     "execution_count": 5
    }
   ],
   "source": [
    "addr = '대구광역시 북구 연암로 40'\n",
    "kakao_url = 'https://dapi.kakao.com'\n",
    "api_url = '/v2/local/search/address.json?query='\n",
    "url = kakao_url + api_url + quote(addr)\n",
    "result = requests.get(url,\n",
    "                      headers={\"Authorization\": f\"KakaoAK {kmap_key}\"}).json()\n",
    "result"
   ]
  },
  {
   "cell_type": "code",
   "execution_count": 7,
   "metadata": {},
   "outputs": [
    {
     "output_type": "execute_result",
     "data": {
      "text/plain": [
       "{'address': {'address_name': '대구 북구 산격동 1445-3',\n",
       "  'b_code': '2723011100',\n",
       "  'h_code': '2723063100',\n",
       "  'main_address_no': '1445',\n",
       "  'mountain_yn': 'N',\n",
       "  'region_1depth_name': '대구',\n",
       "  'region_2depth_name': '북구',\n",
       "  'region_3depth_h_name': '산격4동',\n",
       "  'region_3depth_name': '산격동',\n",
       "  'sub_address_no': '3',\n",
       "  'x': '128.598409309488',\n",
       "  'y': '35.8920272135627'},\n",
       " 'address_name': '대구 북구 연암로 40',\n",
       " 'address_type': 'ROAD_ADDR',\n",
       " 'road_address': {'address_name': '대구 북구 연암로 40',\n",
       "  'building_name': '대구광역시청별관',\n",
       "  'main_building_no': '40',\n",
       "  'region_1depth_name': '대구',\n",
       "  'region_2depth_name': '북구',\n",
       "  'region_3depth_name': '산격동',\n",
       "  'road_name': '연암로',\n",
       "  'sub_building_no': '',\n",
       "  'underground_yn': 'N',\n",
       "  'x': '128.598409309488',\n",
       "  'y': '35.8920272135627',\n",
       "  'zone_no': '41542'},\n",
       " 'x': '128.598409309488',\n",
       " 'y': '35.8920272135627'}"
      ]
     },
     "metadata": {},
     "execution_count": 7
    }
   ],
   "source": [
    "result['documents'][0]"
   ]
  },
  {
   "cell_type": "code",
   "execution_count": 8,
   "metadata": {},
   "outputs": [
    {
     "output_type": "execute_result",
     "data": {
      "text/plain": [
       "(35.8920272135627, 128.598409309488)"
      ]
     },
     "metadata": {},
     "execution_count": 8
    }
   ],
   "source": [
    "lat = float(result['documents'][0]['y'])\n",
    "lng = float(result['documents'][0]['x'])\n",
    "lat, lng"
   ]
  },
  {
   "source": [
    "### 맛집 정보를 읽어서 위도, 경도 정보를 입력"
   ],
   "cell_type": "markdown",
   "metadata": {}
  },
  {
   "cell_type": "code",
   "execution_count": 10,
   "metadata": {},
   "outputs": [
    {
     "output_type": "execute_result",
     "data": {
      "text/plain": [
       "    평점       상호                        메뉴           전화번호  \\\n",
       "0  4.4  반짝반짝빛나는            단호박퓨레 타르트, 밀크티   053-954-8111   \n",
       "1  3.5    인도방랑기           탄두리치킨, 커리, 세트메뉴   053-956-9940   \n",
       "2  4.8     ZZIM                한마리, 가든샐러드   053-941-7272   \n",
       "3  3.7    홍대함바그  매콤함바그, 달콤함바그, 매콤갈비, 달콤갈비   053-269-5008   \n",
       "4  3.0    밥하는남자    상하이누룽지, 통낙지라이스, 돈카츠샐러드  070-7584-1078   \n",
       "\n",
       "                      주소  \n",
       "0   대구광역시 북구 대학로23길 12-1  \n",
       "1        대구광역시 북구 대학로 81  \n",
       "2           대구 북구 대학로 61  \n",
       "3   대구광역시 북구 대학로23길 19-6  \n",
       "4  대구광역시 북구 대학로23길 25-2   "
      ],
      "text/html": "<div>\n<style scoped>\n    .dataframe tbody tr th:only-of-type {\n        vertical-align: middle;\n    }\n\n    .dataframe tbody tr th {\n        vertical-align: top;\n    }\n\n    .dataframe thead th {\n        text-align: right;\n    }\n</style>\n<table border=\"1\" class=\"dataframe\">\n  <thead>\n    <tr style=\"text-align: right;\">\n      <th></th>\n      <th>평점</th>\n      <th>상호</th>\n      <th>메뉴</th>\n      <th>전화번호</th>\n      <th>주소</th>\n    </tr>\n  </thead>\n  <tbody>\n    <tr>\n      <th>0</th>\n      <td>4.4</td>\n      <td>반짝반짝빛나는</td>\n      <td>단호박퓨레 타르트, 밀크티</td>\n      <td>053-954-8111</td>\n      <td>대구광역시 북구 대학로23길 12-1</td>\n    </tr>\n    <tr>\n      <th>1</th>\n      <td>3.5</td>\n      <td>인도방랑기</td>\n      <td>탄두리치킨, 커리, 세트메뉴</td>\n      <td>053-956-9940</td>\n      <td>대구광역시 북구 대학로 81</td>\n    </tr>\n    <tr>\n      <th>2</th>\n      <td>4.8</td>\n      <td>ZZIM</td>\n      <td>한마리, 가든샐러드</td>\n      <td>053-941-7272</td>\n      <td>대구 북구 대학로 61</td>\n    </tr>\n    <tr>\n      <th>3</th>\n      <td>3.7</td>\n      <td>홍대함바그</td>\n      <td>매콤함바그, 달콤함바그, 매콤갈비, 달콤갈비</td>\n      <td>053-269-5008</td>\n      <td>대구광역시 북구 대학로23길 19-6</td>\n    </tr>\n    <tr>\n      <th>4</th>\n      <td>3.0</td>\n      <td>밥하는남자</td>\n      <td>상하이누룽지, 통낙지라이스, 돈카츠샐러드</td>\n      <td>070-7584-1078</td>\n      <td>대구광역시 북구 대학로23길 25-2</td>\n    </tr>\n  </tbody>\n</table>\n</div>"
     },
     "metadata": {},
     "execution_count": 10
    }
   ],
   "source": [
    "df = pd.read_csv('맛집.tsv', sep='\\t')\n",
    "df.head()"
   ]
  },
  {
   "cell_type": "code",
   "execution_count": 11,
   "metadata": {},
   "outputs": [],
   "source": [
    "lat_list, lng_list = [], []\n",
    "for i in df.index:\n",
    "    url = kakao_url + api_url + quote(df['주소'][i])\n",
    "    result = requests.get(url,\n",
    "                        headers={\"Authorization\": f\"KakaoAK {kmap_key}\"}).json()\n",
    "    lat = float(result['documents'][0]['y'])\n",
    "    lng = float(result['documents'][0]['x'])\n",
    "\n",
    "    lat_list.append(lat)\n",
    "    lng_list.append(lng)"
   ]
  },
  {
   "cell_type": "code",
   "execution_count": 12,
   "metadata": {},
   "outputs": [
    {
     "output_type": "execute_result",
     "data": {
      "text/plain": [
       "     평점          상호                                                 메뉴  \\\n",
       "0   4.4     반짝반짝빛나는                                     단호박퓨레 타르트, 밀크티   \n",
       "1   3.5       인도방랑기                                    탄두리치킨, 커리, 세트메뉴   \n",
       "2   4.8        ZZIM                                         한마리, 가든샐러드   \n",
       "3   3.7       홍대함바그                           매콤함바그, 달콤함바그, 매콤갈비, 달콤갈비   \n",
       "4   3.0       밥하는남자                             상하이누룽지, 통낙지라이스, 돈카츠샐러드   \n",
       "5   3.0       포베트21  양지 쇠고기 쌀국수, 세트(월남쌈+양지or해물쌀국수2개), 반세오, 월남쌈, 카오팟...   \n",
       "6   평가중       봉봉해물탕                                         해물탕\\n, 해물찜   \n",
       "7   4.3        72번가                        준벅, 카우보이정식, 코스모 폴리탄, 프렌치 키스   \n",
       "8   4.3  META PIZZA       미트디럭스피자, 쉬림프토파토 파스타, 로제, 프리마베라 피자, 쉬림프크림 파스타   \n",
       "9   평가중    모모야스시 참치         모듬 스시 11P, 특스시 13P, 모모야스시 11P, 참치메뉴, 광어추가회   \n",
       "10  평가중   1905몬스터피자  오리지날치즈 피자/페퍼로니 피자/베이컨체다 피자, 콤비네이션 피자/케이준치킨 피자/...   \n",
       "11  평가중        반미리코          돼지고기/닭고기/어묵 반미, 소고기 치즈 반미, 쌀국수, 팟타이, 분보싸오   \n",
       "\n",
       "             전화번호                       주소        lat         lng  \n",
       "0    053-954-8111     대구광역시 북구 대학로23길 12-1  35.894678  128.610487  \n",
       "1    053-956-9940          대구광역시 북구 대학로 81  35.892631  128.609087  \n",
       "2    053-941-7272             대구 북구 대학로 61  35.891709  128.607325  \n",
       "3    053-269-5008     대구광역시 북구 대학로23길 19-6  35.894002  128.610080  \n",
       "4   070-7584-1078    대구광역시 북구 대학로23길 25-2   35.893574  128.609550  \n",
       "5    053-939-3688  (지번) 대구시 북구 산격동 1416-49  35.891806  128.607525  \n",
       "6    053-383-8000         대구 북구 유통단지로7길 21  35.907770  128.605554  \n",
       "7    053-939-0817    (지번) 대구 북구 산격동 1393-1  35.893030  128.608675  \n",
       "8    053-939-6767    대구광역시 북구 대학로 103 지하1층  35.894060  128.610664  \n",
       "9    053-381-8999          대구광역시 북구 대불로 37  35.903397  128.613014  \n",
       "10   053-944-2520       대구광역시 북구 대학로15길 6   35.892452  128.608311  \n",
       "11  070-8278-1607           대구 북구 대학로23길 7  35.894661  128.611084  "
      ],
      "text/html": "<div>\n<style scoped>\n    .dataframe tbody tr th:only-of-type {\n        vertical-align: middle;\n    }\n\n    .dataframe tbody tr th {\n        vertical-align: top;\n    }\n\n    .dataframe thead th {\n        text-align: right;\n    }\n</style>\n<table border=\"1\" class=\"dataframe\">\n  <thead>\n    <tr style=\"text-align: right;\">\n      <th></th>\n      <th>평점</th>\n      <th>상호</th>\n      <th>메뉴</th>\n      <th>전화번호</th>\n      <th>주소</th>\n      <th>lat</th>\n      <th>lng</th>\n    </tr>\n  </thead>\n  <tbody>\n    <tr>\n      <th>0</th>\n      <td>4.4</td>\n      <td>반짝반짝빛나는</td>\n      <td>단호박퓨레 타르트, 밀크티</td>\n      <td>053-954-8111</td>\n      <td>대구광역시 북구 대학로23길 12-1</td>\n      <td>35.894678</td>\n      <td>128.610487</td>\n    </tr>\n    <tr>\n      <th>1</th>\n      <td>3.5</td>\n      <td>인도방랑기</td>\n      <td>탄두리치킨, 커리, 세트메뉴</td>\n      <td>053-956-9940</td>\n      <td>대구광역시 북구 대학로 81</td>\n      <td>35.892631</td>\n      <td>128.609087</td>\n    </tr>\n    <tr>\n      <th>2</th>\n      <td>4.8</td>\n      <td>ZZIM</td>\n      <td>한마리, 가든샐러드</td>\n      <td>053-941-7272</td>\n      <td>대구 북구 대학로 61</td>\n      <td>35.891709</td>\n      <td>128.607325</td>\n    </tr>\n    <tr>\n      <th>3</th>\n      <td>3.7</td>\n      <td>홍대함바그</td>\n      <td>매콤함바그, 달콤함바그, 매콤갈비, 달콤갈비</td>\n      <td>053-269-5008</td>\n      <td>대구광역시 북구 대학로23길 19-6</td>\n      <td>35.894002</td>\n      <td>128.610080</td>\n    </tr>\n    <tr>\n      <th>4</th>\n      <td>3.0</td>\n      <td>밥하는남자</td>\n      <td>상하이누룽지, 통낙지라이스, 돈카츠샐러드</td>\n      <td>070-7584-1078</td>\n      <td>대구광역시 북구 대학로23길 25-2</td>\n      <td>35.893574</td>\n      <td>128.609550</td>\n    </tr>\n    <tr>\n      <th>5</th>\n      <td>3.0</td>\n      <td>포베트21</td>\n      <td>양지 쇠고기 쌀국수, 세트(월남쌈+양지or해물쌀국수2개), 반세오, 월남쌈, 카오팟...</td>\n      <td>053-939-3688</td>\n      <td>(지번) 대구시 북구 산격동 1416-49</td>\n      <td>35.891806</td>\n      <td>128.607525</td>\n    </tr>\n    <tr>\n      <th>6</th>\n      <td>평가중</td>\n      <td>봉봉해물탕</td>\n      <td>해물탕\\n, 해물찜</td>\n      <td>053-383-8000</td>\n      <td>대구 북구 유통단지로7길 21</td>\n      <td>35.907770</td>\n      <td>128.605554</td>\n    </tr>\n    <tr>\n      <th>7</th>\n      <td>4.3</td>\n      <td>72번가</td>\n      <td>준벅, 카우보이정식, 코스모 폴리탄, 프렌치 키스</td>\n      <td>053-939-0817</td>\n      <td>(지번) 대구 북구 산격동 1393-1</td>\n      <td>35.893030</td>\n      <td>128.608675</td>\n    </tr>\n    <tr>\n      <th>8</th>\n      <td>4.3</td>\n      <td>META PIZZA</td>\n      <td>미트디럭스피자, 쉬림프토파토 파스타, 로제, 프리마베라 피자, 쉬림프크림 파스타</td>\n      <td>053-939-6767</td>\n      <td>대구광역시 북구 대학로 103 지하1층</td>\n      <td>35.894060</td>\n      <td>128.610664</td>\n    </tr>\n    <tr>\n      <th>9</th>\n      <td>평가중</td>\n      <td>모모야스시 참치</td>\n      <td>모듬 스시 11P, 특스시 13P, 모모야스시 11P, 참치메뉴, 광어추가회</td>\n      <td>053-381-8999</td>\n      <td>대구광역시 북구 대불로 37</td>\n      <td>35.903397</td>\n      <td>128.613014</td>\n    </tr>\n    <tr>\n      <th>10</th>\n      <td>평가중</td>\n      <td>1905몬스터피자</td>\n      <td>오리지날치즈 피자/페퍼로니 피자/베이컨체다 피자, 콤비네이션 피자/케이준치킨 피자/...</td>\n      <td>053-944-2520</td>\n      <td>대구광역시 북구 대학로15길 6</td>\n      <td>35.892452</td>\n      <td>128.608311</td>\n    </tr>\n    <tr>\n      <th>11</th>\n      <td>평가중</td>\n      <td>반미리코</td>\n      <td>돼지고기/닭고기/어묵 반미, 소고기 치즈 반미, 쌀국수, 팟타이, 분보싸오</td>\n      <td>070-8278-1607</td>\n      <td>대구 북구 대학로23길 7</td>\n      <td>35.894661</td>\n      <td>128.611084</td>\n    </tr>\n  </tbody>\n</table>\n</div>"
     },
     "metadata": {},
     "execution_count": 12
    }
   ],
   "source": [
    "df['lat'] = lat_list\n",
    "df['lng'] = lng_list\n",
    "df"
   ]
  },
  {
   "cell_type": "code",
   "execution_count": 13,
   "metadata": {},
   "outputs": [],
   "source": [
    "df.to_csv('맛집2.tsv', sep='\\t', index=False)"
   ]
  },
  {
   "cell_type": "code",
   "execution_count": null,
   "metadata": {},
   "outputs": [],
   "source": []
  }
 ]
}