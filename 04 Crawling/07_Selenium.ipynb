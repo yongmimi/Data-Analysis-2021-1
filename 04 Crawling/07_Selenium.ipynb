{
 "metadata": {
  "language_info": {
   "codemirror_mode": {
    "name": "ipython",
    "version": 3
   },
   "file_extension": ".py",
   "mimetype": "text/x-python",
   "name": "python",
   "nbconvert_exporter": "python",
   "pygments_lexer": "ipython3",
   "version": "3.9.2-final"
  },
  "orig_nbformat": 2,
  "kernelspec": {
   "name": "python3",
   "display_name": "Python 3.9.2 64-bit",
   "metadata": {
    "interpreter": {
     "hash": "02c0e9898d779838130bd97d7cf547dbfe09bd0294c45d6e8e3e8a3e0b6bd06b"
    }
   }
  }
 },
 "nbformat": 4,
 "nbformat_minor": 2,
 "cells": [
  {
   "source": [
    "# Selenium을 이용한 동적 크롤링"
   ],
   "cell_type": "markdown",
   "metadata": {}
  },
  {
   "cell_type": "code",
   "execution_count": 2,
   "metadata": {},
   "outputs": [],
   "source": [
    "import requests, time\n",
    "from selenium import webdriver\n",
    "from selenium.webdriver.common.keys import Keys"
   ]
  },
  {
   "cell_type": "code",
   "execution_count": null,
   "metadata": {},
   "outputs": [],
   "source": [
    "from bs4 import BeautifulSoup\n",
    "\n",
    "url = \"https://sports.news.naver.com/index.nhn\"\n",
    "req = requests.get(url)\n",
    "soup = BeautifulSoup(req.text, 'html.parser')\n",
    "\n",
    "# BeautifulSoup으로 크롤링 하려고 했지만 본몬은 크롤링이 안됨 "
   ]
  },
  {
   "source": [
    "### 야구 > 최신뉴스"
   ],
   "cell_type": "markdown",
   "metadata": {}
  },
  {
   "cell_type": "code",
   "execution_count": 18,
   "metadata": {},
   "outputs": [],
   "source": [
    "driver = webdriver.Chrome('chromedriver')\n",
    "url = \"https://sports.news.naver.com/kbaseball/news/index.nhn?isphoto=N\"\n",
    "driver.get(url)"
   ]
  },
  {
   "cell_type": "code",
   "execution_count": 20,
   "metadata": {},
   "outputs": [],
   "source": [
    "# 최신 뉴스 리스트의 맨 마지막 페이지 (더 이상 next가 존재하지 x)\n",
    "while True: \n",
    "    page = driver.find_element_by_id('_pageList')\n",
    "    try:\n",
    "        next = page.find_element_by_class_name('next')\n",
    "        if next: \n",
    "            next.click()\n",
    "    except:\n",
    "        break;"
   ]
  },
  {
   "cell_type": "code",
   "execution_count": 27,
   "metadata": {},
   "outputs": [
    {
     "output_type": "execute_result",
     "data": {
      "text/plain": [
       "20"
      ]
     },
     "metadata": {},
     "execution_count": 27
    }
   ],
   "source": [
    "page = driver.find_element_by_id('_pageList')\n",
    "try:\n",
    "    atags = page.find_elements_by_tag_name('a')\n",
    "    numPage = int(atags[-1].text)\n",
    "except:\n",
    "    numPage = 1 \n",
    "numPage  "
   ]
  },
  {
   "cell_type": "code",
   "execution_count": 28,
   "metadata": {},
   "outputs": [
    {
     "output_type": "execute_result",
     "data": {
      "text/plain": [
       "20"
      ]
     },
     "metadata": {},
     "execution_count": 28
    }
   ],
   "source": [
    "news = driver.find_element_by_id('_newsList')\n",
    "lis = news.find_elements_by_tag_name('li')\n",
    "len(lis)"
   ]
  },
  {
   "cell_type": "code",
   "execution_count": 30,
   "metadata": {},
   "outputs": [
    {
     "output_type": "stream",
     "name": "stdout",
     "text": [
      "Hanwha Eagles rebuild to be filmed for documentary series\n",
      "에이스 떠난 자리 실감하는 SSG·KIA 마운드, 고민 해결은 '현재 진행형'\n",
      "삼성 2선발 라이블리 9이닝 9실점, 올해도 슬로 스타터?\n",
      "[IS 대구] 7번·8번, 5번·6번…김혜성과 박동원의 타순이 붙는 이유\n",
      "SSG 5선발 경합 결과 나왔다…이건욱으로 결정 [스경X현장]\n",
      "KT, 이차돌과 업무 협약\n",
      "‘1사 만루 루킹 삼진’ 장운호 칭찬한 수베로 “출루에 집중한 자세” [엠스플 현장]\n",
      "두산, 휠라와 30년 연속 파트너십\n",
      "두산, 휠라(FILA)와 2024년까지 동행…30년 연속 후원\n",
      "한화의 2021 시즌, 왓챠 오리지널 다큐멘터리로 제작된다\n",
      "비시즌 ‘조기퇴근’ 원조 키움, 새로운 더그아웃 문화 만든다 [스경X현장]\n",
      "'수아레즈→남호' 선발 바꾼 LG, 4월6일 KT전 의식한 연막? [★수원]\n",
      "롯데 개막전 선발은 스트레일리, ‘꼭꼭 숨겨라’ [스경X현장]\n",
      "kt, 외식전문기업 '이차돌'과 2021 시즌 업무 협약 체결\n",
      "‘핵펀치 복서들의 팽팽한 긴장감’, 강백호 가슴에 원투펀치 날린 라모스[수원영상]\n",
      "배팅볼 던지는 수베로 감독, ‘힐리, 칠테면 쳐봐’[O! SPORTS]\n",
      "LG, 수아레즈 등판 일정 조정… 25일 두산전 선발등판 [현장스케치]\n",
      "수베로 감독의 철학, 삼진 아웃에도 '가치'가 있다\n",
      "페르난데스-힐리, 나란히 1루 수비…두산-한화 라인업 발표 [오!쎈 잠실]\n",
      "[부산 코멘트] '2G 21실점' 무너진 SSG 마운드…김원형 감독, \"실책 영향, 투수도 집중력 가지길\"\n"
     ]
    }
   ],
   "source": [
    "for li in lis: \n",
    "    text = li.find_element_by_class_name('title')\n",
    "    title = text.find_element_by_tag_name('span').text\n",
    "    print(title) "
   ]
  },
  {
   "source": [
    "### 전체 종목 가져오기 "
   ],
   "cell_type": "markdown",
   "metadata": {}
  },
  {
   "cell_type": "code",
   "execution_count": 32,
   "metadata": {},
   "outputs": [
    {
     "output_type": "stream",
     "name": "stdout",
     "text": [
      "스포츠홈\n",
      "야구\n",
      "해외야구\n",
      "축구\n",
      "해외축구\n",
      "농구\n",
      "배구\n",
      "골프\n",
      "일반\n",
      "e스포츠&게임\n",
      "오늘의 경기\n",
      "연재\n",
      "랭킹\n"
     ]
    }
   ],
   "source": [
    "menus = driver.find_elements_by_class_name('main_menu_item')\n",
    "for menu in menus: \n",
    "    event = menu.find_element_by_tag_name('a').text\n",
    "    print(event)\n"
   ]
  },
  {
   "cell_type": "code",
   "execution_count": 37,
   "metadata": {},
   "outputs": [
    {
     "output_type": "execute_result",
     "data": {
      "text/plain": [
       "['https://sports.news.naver.com/kbaseball/index.nhn',\n",
       " 'https://sports.news.naver.com/wbaseball/index.nhn',\n",
       " 'https://sports.news.naver.com/kfootball/index.nhn',\n",
       " 'https://sports.news.naver.com/wfootball/index.nhn',\n",
       " 'https://sports.news.naver.com/basketball/index.nhn',\n",
       " 'https://sports.news.naver.com/volleyball/index.nhn',\n",
       " 'https://sports.news.naver.com/golf/index.nhn',\n",
       " 'https://sports.news.naver.com/general/index.nhn',\n",
       " 'https://sports.news.naver.com/esports/index.nhn']"
      ]
     },
     "metadata": {},
     "execution_count": 37
    }
   ],
   "source": [
    "menus = driver.find_elements_by_class_name('main_menu_item')\n",
    "events = []\n",
    "for menu in menus[1:-3]:\n",
    "    event = menu.find_element_by_tag_name('a').get_attribute('href')\n",
    "    events.append(event)\n",
    "events  "
   ]
  },
  {
   "cell_type": "code",
   "execution_count": 38,
   "metadata": {},
   "outputs": [
    {
     "output_type": "execute_result",
     "data": {
      "text/plain": [
       "['kbaseball',\n",
       " 'wbaseball',\n",
       " 'kfootball',\n",
       " 'wfootball',\n",
       " 'basketball',\n",
       " 'volleyball',\n",
       " 'golf',\n",
       " 'general',\n",
       " 'esports']"
      ]
     },
     "metadata": {},
     "execution_count": 38
    }
   ],
   "source": [
    "menus = driver.find_elements_by_class_name('main_menu_item')\n",
    "events = []\n",
    "for menu in menus[1:-3]:\n",
    "    event = menu.find_element_by_tag_name('a').get_attribute('href')\n",
    "    events.append(event.split('/')[3])\n",
    "events  "
   ]
  },
  {
   "cell_type": "code",
   "execution_count": 39,
   "metadata": {},
   "outputs": [
    {
     "output_type": "stream",
     "name": "stdout",
     "text": [
      "kbaseball:19\n",
      "wbaseball:7\n",
      "kfootball:11\n",
      "wfootball:1\n",
      "basketball:7\n",
      "volleyball:5\n",
      "golf:6\n",
      "general:8\n",
      "esports:9\n"
     ]
    }
   ],
   "source": [
    "base_url = \"https://sports.news.naver.com/\"\n",
    "sub_url = \"/news/index.nhn?isphoto=N\"\n",
    "for event in events:\n",
    "    print(event, end=':')\n",
    "    url = f'{base_url}{event}{sub_url}'\n",
    "    driver.get(url)\n",
    "    time.sleep(1)\n",
    "\n",
    "    while True: \n",
    "        page = driver.find_element_by_id('_pageList')\n",
    "        try:\n",
    "            next = page.find_element_by_class_name('next')\n",
    "            if next: \n",
    "                next.click()\n",
    "        except:\n",
    "            break;\n",
    "\n",
    "    page = driver.find_element_by_id('_pageList')\n",
    "    try:\n",
    "        atags = page.find_elements_by_tag_name('a')\n",
    "        numPage = int(atags[-1].text)\n",
    "    except:\n",
    "        numPage = 1 \n",
    "\n",
    "    print(numPage)\n"
   ]
  },
  {
   "cell_type": "code",
   "execution_count": 40,
   "metadata": {},
   "outputs": [
    {
     "output_type": "stream",
     "name": "stdout",
     "text": [
      "kbaseball:19 - 1, 2, 3, 4, 5, 6, 7, 8, 9, 10, 11, 12, 13, 14, 15, 16, 17, 18, 19, \n",
      "wbaseball:7 - 1, 2, 3, 4, 5, 6, 7, \n",
      "kfootball:11 - 1, 2, 3, 4, 5, 6, 7, 8, 9, 10, 11, \n",
      "wfootball:1 - 1, \n",
      "basketball:8 - 1, 2, 3, 4, 5, 6, 7, 8, \n",
      "volleyball:5 - 1, 2, 3, 4, 5, \n",
      "golf:6 - 1, 2, 3, 4, 5, 6, \n",
      "general:8 - 1, 2, 3, 4, 5, 6, 7, 8, \n",
      "esports:9 - 1, 2, 3, 4, 5, 6, 7, 8, 9, \n"
     ]
    }
   ],
   "source": [
    "title_list = []\n",
    "\n",
    "for event in events:\n",
    "    print(event, end=':')\n",
    "    url = f'{base_url}{event}{sub_url}'\n",
    "    driver.get(url)\n",
    "    time.sleep(1)\n",
    "\n",
    "    while True: \n",
    "        page = driver.find_element_by_id('_pageList')\n",
    "        try:\n",
    "            next = page.find_element_by_class_name('next')\n",
    "            if next: \n",
    "                next.click()\n",
    "        except:\n",
    "            break;\n",
    "\n",
    "    page = driver.find_element_by_id('_pageList')\n",
    "    try:\n",
    "        atags = page.find_elements_by_tag_name('a')\n",
    "        numPage = int(atags[-1].text)\n",
    "    except:\n",
    "        numPage = 1 \n",
    "\n",
    "    print(numPage, end= ' - ')\n",
    "\n",
    "    for page in range(1, numPage+1):\n",
    "        print(page, end=', ')\n",
    "        url = f'{base_url}{event}{sub_url}&page={page}'\n",
    "        driver.get(url)\n",
    "        time.sleep(1)\n",
    "\n",
    "        news = driver.find_element_by_id('_newsList')\n",
    "        lis = news.find_elements_by_tag_name('li')\n",
    "        for li in lis:\n",
    "            for li in lis: \n",
    "                text = li.find_element_by_class_name('title')\n",
    "                title = text.find_element_by_tag_name('span').text\n",
    "                title_list.append(title)\n",
    "    \n",
    "    print()\n"
   ]
  },
  {
   "cell_type": "code",
   "execution_count": 41,
   "metadata": {},
   "outputs": [
    {
     "output_type": "execute_result",
     "data": {
      "text/plain": [
       "27732"
      ]
     },
     "metadata": {},
     "execution_count": 41
    }
   ],
   "source": [
    "len(title_list)"
   ]
  },
  {
   "cell_type": "code",
   "execution_count": 45,
   "metadata": {},
   "outputs": [],
   "source": [
    "title_str = '\\n'.join(title for title in title_list)\n",
    "with open('sports.txt', 'w', encoding='utf-8') as fp:\n",
    "    fp.write(title_str)"
   ]
  },
  {
   "cell_type": "code",
   "execution_count": null,
   "metadata": {},
   "outputs": [],
   "source": []
  }
 ]
}